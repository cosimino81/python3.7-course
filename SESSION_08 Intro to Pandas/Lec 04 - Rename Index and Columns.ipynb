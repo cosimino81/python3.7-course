{
 "cells": [
  {
   "cell_type": "markdown",
   "metadata": {},
   "source": [
    "# Intro to Pandas\n",
    "\n",
    "## Rename Inex and Columns"
   ]
  },
  {
   "cell_type": "code",
   "execution_count": 1,
   "metadata": {},
   "outputs": [],
   "source": [
    "# Basic imports\n",
    "import numpy as np\n",
    "from pandas import Series,DataFrame\n",
    "import pandas as pd"
   ]
  },
  {
   "cell_type": "markdown",
   "metadata": {},
   "source": [
    "#### Create the DF "
   ]
  },
  {
   "cell_type": "code",
   "execution_count": 2,
   "metadata": {},
   "outputs": [
    {
     "data": {
      "text/html": [
       "<div>\n",
       "<style scoped>\n",
       "    .dataframe tbody tr th:only-of-type {\n",
       "        vertical-align: middle;\n",
       "    }\n",
       "\n",
       "    .dataframe tbody tr th {\n",
       "        vertical-align: top;\n",
       "    }\n",
       "\n",
       "    .dataframe thead th {\n",
       "        text-align: right;\n",
       "    }\n",
       "</style>\n",
       "<table border=\"1\" class=\"dataframe\">\n",
       "  <thead>\n",
       "    <tr style=\"text-align: right;\">\n",
       "      <th></th>\n",
       "      <th>Col1</th>\n",
       "      <th>Col2</th>\n",
       "      <th>Col3</th>\n",
       "      <th>Col4</th>\n",
       "    </tr>\n",
       "  </thead>\n",
       "  <tbody>\n",
       "    <tr>\n",
       "      <th>A</th>\n",
       "      <td>-0.329807</td>\n",
       "      <td>-0.938674</td>\n",
       "      <td>-1.444394</td>\n",
       "      <td>0.457312</td>\n",
       "    </tr>\n",
       "    <tr>\n",
       "      <th>B</th>\n",
       "      <td>2.591716</td>\n",
       "      <td>-0.895230</td>\n",
       "      <td>-0.621696</td>\n",
       "      <td>-0.036374</td>\n",
       "    </tr>\n",
       "    <tr>\n",
       "      <th>C</th>\n",
       "      <td>0.089841</td>\n",
       "      <td>1.407620</td>\n",
       "      <td>-0.213759</td>\n",
       "      <td>-0.879033</td>\n",
       "    </tr>\n",
       "    <tr>\n",
       "      <th>D</th>\n",
       "      <td>-0.044178</td>\n",
       "      <td>0.067692</td>\n",
       "      <td>-0.131929</td>\n",
       "      <td>0.636919</td>\n",
       "    </tr>\n",
       "  </tbody>\n",
       "</table>\n",
       "</div>"
      ],
      "text/plain": [
       "       Col1      Col2      Col3      Col4\n",
       "A -0.329807 -0.938674 -1.444394  0.457312\n",
       "B  2.591716 -0.895230 -0.621696 -0.036374\n",
       "C  0.089841  1.407620 -0.213759 -0.879033\n",
       "D -0.044178  0.067692 -0.131929  0.636919"
      ]
     },
     "execution_count": 2,
     "metadata": {},
     "output_type": "execute_result"
    }
   ],
   "source": [
    "# set the data\n",
    "npdata = np.random.randn(16).reshape(4,4)\n",
    "\n",
    "# Create the DF\n",
    "myDF = DataFrame(data= npdata, index = ['A', 'B', 'C', 'D'], columns= ['Col1', 'Col2', 'Col3', 'Col4'])\n",
    "\n",
    "# Show\n",
    "myDF"
   ]
  },
  {
   "cell_type": "markdown",
   "metadata": {},
   "source": [
    "## The .rename() method"
   ]
  },
  {
   "cell_type": "markdown",
   "metadata": {},
   "source": [
    "### Using Axis-Style parameters\n",
    "\n",
    "Put everything lower case"
   ]
  },
  {
   "cell_type": "code",
   "execution_count": 3,
   "metadata": {},
   "outputs": [
    {
     "data": {
      "text/html": [
       "<div>\n",
       "<style scoped>\n",
       "    .dataframe tbody tr th:only-of-type {\n",
       "        vertical-align: middle;\n",
       "    }\n",
       "\n",
       "    .dataframe tbody tr th {\n",
       "        vertical-align: top;\n",
       "    }\n",
       "\n",
       "    .dataframe thead th {\n",
       "        text-align: right;\n",
       "    }\n",
       "</style>\n",
       "<table border=\"1\" class=\"dataframe\">\n",
       "  <thead>\n",
       "    <tr style=\"text-align: right;\">\n",
       "      <th></th>\n",
       "      <th>Col1</th>\n",
       "      <th>Col2</th>\n",
       "      <th>Col3</th>\n",
       "      <th>Col4</th>\n",
       "    </tr>\n",
       "  </thead>\n",
       "  <tbody>\n",
       "    <tr>\n",
       "      <th>a</th>\n",
       "      <td>-0.329807</td>\n",
       "      <td>-0.938674</td>\n",
       "      <td>-1.444394</td>\n",
       "      <td>0.457312</td>\n",
       "    </tr>\n",
       "    <tr>\n",
       "      <th>b</th>\n",
       "      <td>2.591716</td>\n",
       "      <td>-0.895230</td>\n",
       "      <td>-0.621696</td>\n",
       "      <td>-0.036374</td>\n",
       "    </tr>\n",
       "    <tr>\n",
       "      <th>c</th>\n",
       "      <td>0.089841</td>\n",
       "      <td>1.407620</td>\n",
       "      <td>-0.213759</td>\n",
       "      <td>-0.879033</td>\n",
       "    </tr>\n",
       "    <tr>\n",
       "      <th>d</th>\n",
       "      <td>-0.044178</td>\n",
       "      <td>0.067692</td>\n",
       "      <td>-0.131929</td>\n",
       "      <td>0.636919</td>\n",
       "    </tr>\n",
       "  </tbody>\n",
       "</table>\n",
       "</div>"
      ],
      "text/plain": [
       "       Col1      Col2      Col3      Col4\n",
       "a -0.329807 -0.938674 -1.444394  0.457312\n",
       "b  2.591716 -0.895230 -0.621696 -0.036374\n",
       "c  0.089841  1.407620 -0.213759 -0.879033\n",
       "d -0.044178  0.067692 -0.131929  0.636919"
      ]
     },
     "execution_count": 3,
     "metadata": {},
     "output_type": "execute_result"
    }
   ],
   "source": [
    "# On index\n",
    "myDF.rename(str.lower, axis='index')"
   ]
  },
  {
   "cell_type": "markdown",
   "metadata": {},
   "source": [
    "Put everything upper case"
   ]
  },
  {
   "cell_type": "code",
   "execution_count": 4,
   "metadata": {},
   "outputs": [
    {
     "data": {
      "text/html": [
       "<div>\n",
       "<style scoped>\n",
       "    .dataframe tbody tr th:only-of-type {\n",
       "        vertical-align: middle;\n",
       "    }\n",
       "\n",
       "    .dataframe tbody tr th {\n",
       "        vertical-align: top;\n",
       "    }\n",
       "\n",
       "    .dataframe thead th {\n",
       "        text-align: right;\n",
       "    }\n",
       "</style>\n",
       "<table border=\"1\" class=\"dataframe\">\n",
       "  <thead>\n",
       "    <tr style=\"text-align: right;\">\n",
       "      <th></th>\n",
       "      <th>COL1</th>\n",
       "      <th>COL2</th>\n",
       "      <th>COL3</th>\n",
       "      <th>COL4</th>\n",
       "    </tr>\n",
       "  </thead>\n",
       "  <tbody>\n",
       "    <tr>\n",
       "      <th>A</th>\n",
       "      <td>-0.329807</td>\n",
       "      <td>-0.938674</td>\n",
       "      <td>-1.444394</td>\n",
       "      <td>0.457312</td>\n",
       "    </tr>\n",
       "    <tr>\n",
       "      <th>B</th>\n",
       "      <td>2.591716</td>\n",
       "      <td>-0.895230</td>\n",
       "      <td>-0.621696</td>\n",
       "      <td>-0.036374</td>\n",
       "    </tr>\n",
       "    <tr>\n",
       "      <th>C</th>\n",
       "      <td>0.089841</td>\n",
       "      <td>1.407620</td>\n",
       "      <td>-0.213759</td>\n",
       "      <td>-0.879033</td>\n",
       "    </tr>\n",
       "    <tr>\n",
       "      <th>D</th>\n",
       "      <td>-0.044178</td>\n",
       "      <td>0.067692</td>\n",
       "      <td>-0.131929</td>\n",
       "      <td>0.636919</td>\n",
       "    </tr>\n",
       "  </tbody>\n",
       "</table>\n",
       "</div>"
      ],
      "text/plain": [
       "       COL1      COL2      COL3      COL4\n",
       "A -0.329807 -0.938674 -1.444394  0.457312\n",
       "B  2.591716 -0.895230 -0.621696 -0.036374\n",
       "C  0.089841  1.407620 -0.213759 -0.879033\n",
       "D -0.044178  0.067692 -0.131929  0.636919"
      ]
     },
     "execution_count": 4,
     "metadata": {},
     "output_type": "execute_result"
    }
   ],
   "source": [
    "# On Columns\n",
    "myDF.rename(str.upper, axis='columns')"
   ]
  },
  {
   "cell_type": "markdown",
   "metadata": {},
   "source": [
    "### Rename using mapping\n",
    "\n",
    "Here we map specific index values"
   ]
  },
  {
   "cell_type": "code",
   "execution_count": 5,
   "metadata": {},
   "outputs": [
    {
     "data": {
      "text/html": [
       "<div>\n",
       "<style scoped>\n",
       "    .dataframe tbody tr th:only-of-type {\n",
       "        vertical-align: middle;\n",
       "    }\n",
       "\n",
       "    .dataframe tbody tr th {\n",
       "        vertical-align: top;\n",
       "    }\n",
       "\n",
       "    .dataframe thead th {\n",
       "        text-align: right;\n",
       "    }\n",
       "</style>\n",
       "<table border=\"1\" class=\"dataframe\">\n",
       "  <thead>\n",
       "    <tr style=\"text-align: right;\">\n",
       "      <th></th>\n",
       "      <th>Col1</th>\n",
       "      <th>Col2</th>\n",
       "      <th>Col3</th>\n",
       "      <th>Col4</th>\n",
       "    </tr>\n",
       "  </thead>\n",
       "  <tbody>\n",
       "    <tr>\n",
       "      <th>alfa</th>\n",
       "      <td>-0.329807</td>\n",
       "      <td>-0.938674</td>\n",
       "      <td>-1.444394</td>\n",
       "      <td>0.457312</td>\n",
       "    </tr>\n",
       "    <tr>\n",
       "      <th>beta</th>\n",
       "      <td>2.591716</td>\n",
       "      <td>-0.895230</td>\n",
       "      <td>-0.621696</td>\n",
       "      <td>-0.036374</td>\n",
       "    </tr>\n",
       "    <tr>\n",
       "      <th>C</th>\n",
       "      <td>0.089841</td>\n",
       "      <td>1.407620</td>\n",
       "      <td>-0.213759</td>\n",
       "      <td>-0.879033</td>\n",
       "    </tr>\n",
       "    <tr>\n",
       "      <th>D</th>\n",
       "      <td>-0.044178</td>\n",
       "      <td>0.067692</td>\n",
       "      <td>-0.131929</td>\n",
       "      <td>0.636919</td>\n",
       "    </tr>\n",
       "  </tbody>\n",
       "</table>\n",
       "</div>"
      ],
      "text/plain": [
       "          Col1      Col2      Col3      Col4\n",
       "alfa -0.329807 -0.938674 -1.444394  0.457312\n",
       "beta  2.591716 -0.895230 -0.621696 -0.036374\n",
       "C     0.089841  1.407620 -0.213759 -0.879033\n",
       "D    -0.044178  0.067692 -0.131929  0.636919"
      ]
     },
     "execution_count": 5,
     "metadata": {},
     "output_type": "execute_result"
    }
   ],
   "source": [
    "# On index\n",
    "myDF.rename(index = {'A':'alfa', 'B':'beta'})"
   ]
  },
  {
   "cell_type": "code",
   "execution_count": 6,
   "metadata": {},
   "outputs": [
    {
     "data": {
      "text/html": [
       "<div>\n",
       "<style scoped>\n",
       "    .dataframe tbody tr th:only-of-type {\n",
       "        vertical-align: middle;\n",
       "    }\n",
       "\n",
       "    .dataframe tbody tr th {\n",
       "        vertical-align: top;\n",
       "    }\n",
       "\n",
       "    .dataframe thead th {\n",
       "        text-align: right;\n",
       "    }\n",
       "</style>\n",
       "<table border=\"1\" class=\"dataframe\">\n",
       "  <thead>\n",
       "    <tr style=\"text-align: right;\">\n",
       "      <th></th>\n",
       "      <th>A1</th>\n",
       "      <th>B1</th>\n",
       "      <th>Col3</th>\n",
       "      <th>Col4</th>\n",
       "    </tr>\n",
       "  </thead>\n",
       "  <tbody>\n",
       "    <tr>\n",
       "      <th>A</th>\n",
       "      <td>-0.329807</td>\n",
       "      <td>-0.938674</td>\n",
       "      <td>-1.444394</td>\n",
       "      <td>0.457312</td>\n",
       "    </tr>\n",
       "    <tr>\n",
       "      <th>B</th>\n",
       "      <td>2.591716</td>\n",
       "      <td>-0.895230</td>\n",
       "      <td>-0.621696</td>\n",
       "      <td>-0.036374</td>\n",
       "    </tr>\n",
       "    <tr>\n",
       "      <th>C</th>\n",
       "      <td>0.089841</td>\n",
       "      <td>1.407620</td>\n",
       "      <td>-0.213759</td>\n",
       "      <td>-0.879033</td>\n",
       "    </tr>\n",
       "    <tr>\n",
       "      <th>D</th>\n",
       "      <td>-0.044178</td>\n",
       "      <td>0.067692</td>\n",
       "      <td>-0.131929</td>\n",
       "      <td>0.636919</td>\n",
       "    </tr>\n",
       "  </tbody>\n",
       "</table>\n",
       "</div>"
      ],
      "text/plain": [
       "         A1        B1      Col3      Col4\n",
       "A -0.329807 -0.938674 -1.444394  0.457312\n",
       "B  2.591716 -0.895230 -0.621696 -0.036374\n",
       "C  0.089841  1.407620 -0.213759 -0.879033\n",
       "D -0.044178  0.067692 -0.131929  0.636919"
      ]
     },
     "execution_count": 6,
     "metadata": {},
     "output_type": "execute_result"
    }
   ],
   "source": [
    "# On columns\n",
    "myDF.rename(columns={'Col1':'A1', 'Col2':'B1'})"
   ]
  },
  {
   "cell_type": "markdown",
   "metadata": {},
   "source": [
    "## Renaming using a list"
   ]
  },
  {
   "cell_type": "markdown",
   "metadata": {},
   "source": [
    "Rename all columns in one shot"
   ]
  },
  {
   "cell_type": "code",
   "execution_count": 7,
   "metadata": {},
   "outputs": [
    {
     "data": {
      "text/html": [
       "<div>\n",
       "<style scoped>\n",
       "    .dataframe tbody tr th:only-of-type {\n",
       "        vertical-align: middle;\n",
       "    }\n",
       "\n",
       "    .dataframe tbody tr th {\n",
       "        vertical-align: top;\n",
       "    }\n",
       "\n",
       "    .dataframe thead th {\n",
       "        text-align: right;\n",
       "    }\n",
       "</style>\n",
       "<table border=\"1\" class=\"dataframe\">\n",
       "  <thead>\n",
       "    <tr style=\"text-align: right;\">\n",
       "      <th></th>\n",
       "      <th>C1</th>\n",
       "      <th>C2</th>\n",
       "      <th>C3</th>\n",
       "      <th>C4</th>\n",
       "    </tr>\n",
       "  </thead>\n",
       "  <tbody>\n",
       "    <tr>\n",
       "      <th>A</th>\n",
       "      <td>-0.329807</td>\n",
       "      <td>-0.938674</td>\n",
       "      <td>-1.444394</td>\n",
       "      <td>0.457312</td>\n",
       "    </tr>\n",
       "    <tr>\n",
       "      <th>B</th>\n",
       "      <td>2.591716</td>\n",
       "      <td>-0.895230</td>\n",
       "      <td>-0.621696</td>\n",
       "      <td>-0.036374</td>\n",
       "    </tr>\n",
       "    <tr>\n",
       "      <th>C</th>\n",
       "      <td>0.089841</td>\n",
       "      <td>1.407620</td>\n",
       "      <td>-0.213759</td>\n",
       "      <td>-0.879033</td>\n",
       "    </tr>\n",
       "    <tr>\n",
       "      <th>D</th>\n",
       "      <td>-0.044178</td>\n",
       "      <td>0.067692</td>\n",
       "      <td>-0.131929</td>\n",
       "      <td>0.636919</td>\n",
       "    </tr>\n",
       "  </tbody>\n",
       "</table>\n",
       "</div>"
      ],
      "text/plain": [
       "         C1        C2        C3        C4\n",
       "A -0.329807 -0.938674 -1.444394  0.457312\n",
       "B  2.591716 -0.895230 -0.621696 -0.036374\n",
       "C  0.089841  1.407620 -0.213759 -0.879033\n",
       "D -0.044178  0.067692 -0.131929  0.636919"
      ]
     },
     "execution_count": 7,
     "metadata": {},
     "output_type": "execute_result"
    }
   ],
   "source": [
    "# On columns\n",
    "myDF.columns = ['C1', 'C2', 'C3', 'C4']\n",
    "myDF"
   ]
  },
  {
   "cell_type": "markdown",
   "metadata": {},
   "source": [
    "Rename all index rows in one shot"
   ]
  },
  {
   "cell_type": "code",
   "execution_count": 9,
   "metadata": {},
   "outputs": [
    {
     "data": {
      "text/html": [
       "<div>\n",
       "<style scoped>\n",
       "    .dataframe tbody tr th:only-of-type {\n",
       "        vertical-align: middle;\n",
       "    }\n",
       "\n",
       "    .dataframe tbody tr th {\n",
       "        vertical-align: top;\n",
       "    }\n",
       "\n",
       "    .dataframe thead th {\n",
       "        text-align: right;\n",
       "    }\n",
       "</style>\n",
       "<table border=\"1\" class=\"dataframe\">\n",
       "  <thead>\n",
       "    <tr style=\"text-align: right;\">\n",
       "      <th></th>\n",
       "      <th>C1</th>\n",
       "      <th>C2</th>\n",
       "      <th>C3</th>\n",
       "      <th>C4</th>\n",
       "    </tr>\n",
       "  </thead>\n",
       "  <tbody>\n",
       "    <tr>\n",
       "      <th>1</th>\n",
       "      <td>-0.329807</td>\n",
       "      <td>-0.938674</td>\n",
       "      <td>-1.444394</td>\n",
       "      <td>0.457312</td>\n",
       "    </tr>\n",
       "    <tr>\n",
       "      <th>2</th>\n",
       "      <td>2.591716</td>\n",
       "      <td>-0.895230</td>\n",
       "      <td>-0.621696</td>\n",
       "      <td>-0.036374</td>\n",
       "    </tr>\n",
       "    <tr>\n",
       "      <th>3</th>\n",
       "      <td>0.089841</td>\n",
       "      <td>1.407620</td>\n",
       "      <td>-0.213759</td>\n",
       "      <td>-0.879033</td>\n",
       "    </tr>\n",
       "    <tr>\n",
       "      <th>4</th>\n",
       "      <td>-0.044178</td>\n",
       "      <td>0.067692</td>\n",
       "      <td>-0.131929</td>\n",
       "      <td>0.636919</td>\n",
       "    </tr>\n",
       "  </tbody>\n",
       "</table>\n",
       "</div>"
      ],
      "text/plain": [
       "         C1        C2        C3        C4\n",
       "1 -0.329807 -0.938674 -1.444394  0.457312\n",
       "2  2.591716 -0.895230 -0.621696 -0.036374\n",
       "3  0.089841  1.407620 -0.213759 -0.879033\n",
       "4 -0.044178  0.067692 -0.131929  0.636919"
      ]
     },
     "execution_count": 9,
     "metadata": {},
     "output_type": "execute_result"
    }
   ],
   "source": [
    "# On rows\n",
    "myDF.index = [1,2,3,4]\n",
    "myDF"
   ]
  },
  {
   "cell_type": "markdown",
   "metadata": {},
   "source": [
    "# Exercises!"
   ]
  },
  {
   "cell_type": "code",
   "execution_count": null,
   "metadata": {},
   "outputs": [],
   "source": []
  }
 ],
 "metadata": {
  "kernelspec": {
   "display_name": "Python 3",
   "language": "python",
   "name": "python3"
  },
  "language_info": {
   "codemirror_mode": {
    "name": "ipython",
    "version": 3
   },
   "file_extension": ".py",
   "mimetype": "text/x-python",
   "name": "python",
   "nbconvert_exporter": "python",
   "pygments_lexer": "ipython3",
   "version": "3.7.3"
  }
 },
 "nbformat": 4,
 "nbformat_minor": 1
}
