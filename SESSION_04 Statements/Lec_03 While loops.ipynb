{
 "cells": [
  {
   "cell_type": "markdown",
   "metadata": {
    "collapsed": true
   },
   "source": [
    "# while loops\n",
    "\n",
    "The **while** statement in Python is one of most general ways to perform iteration. \n",
    "\n",
    "A **while** statement will repeatedly execute a single statement or group of statements as long as the condition is true. The reason it is called a 'loop' is because the code statements are looped through over and over again until the condition is no longer met.\n",
    "\n",
    "The general format of a while loop is:\n",
    "\n",
    "    while test:\n",
    "        code statement\n",
    "    else:\n",
    "        final code statements\n",
    "\n",
    "## Some while loop: "
   ]
  },
  {
   "cell_type": "code",
   "execution_count": 8,
   "metadata": {},
   "outputs": [
    {
     "name": "stdout",
     "output_type": "stream",
     "text": [
      "The number is:  0\n",
      "The number still less than 5, adding 1 unit \n",
      "\n",
      "The number is:  1\n",
      "The number still less than 5, adding 1 unit \n",
      "\n",
      "The number is:  2\n",
      "The number still less than 5, adding 1 unit \n",
      "\n",
      "The number is:  3\n",
      "The number still less than 5, adding 1 unit \n",
      "\n",
      "The number is:  4\n",
      "The number still less than 5, adding 1 unit \n",
      "\n"
     ]
    }
   ],
   "source": [
    "x = 0\n",
    "\n",
    "while x < 5:\n",
    "    print ('The number is: ', x)\n",
    "    print ('The number still less than 5, adding 1 unit', \"\\n\")\n",
    "    x+=1"
   ]
  },
  {
   "cell_type": "markdown",
   "metadata": {},
   "source": [
    "Notice how the while loop kept going until the True condition was met, which occurred once x==5. Its important to note that once this occurred the code stopped."
   ]
  },
  {
   "cell_type": "markdown",
   "metadata": {},
   "source": [
    "## Adding some statement\n",
    "\n",
    "#### else"
   ]
  },
  {
   "cell_type": "code",
   "execution_count": 7,
   "metadata": {},
   "outputs": [
    {
     "name": "stdout",
     "output_type": "stream",
     "text": [
      "The number is:  0\n",
      "The number still less than 5, adding 1 unit \n",
      "\n",
      "The number is:  1\n",
      "The number still less than 5, adding 1 unit \n",
      "\n",
      "The number is:  2\n",
      "The number still less than 5, adding 1 unit \n",
      "\n",
      "The number is:  3\n",
      "The number still less than 5, adding 1 unit \n",
      "\n",
      "The number is:  4\n",
      "The number still less than 5, adding 1 unit \n",
      "\n",
      "All Done!\n"
     ]
    }
   ],
   "source": [
    "# counter\n",
    "x = 0\n",
    "\n",
    "# loop\n",
    "while x < 5:\n",
    "    print ('The number is: ', x)\n",
    "    print ('The number still less than 5, adding 1 unit', \"\\n\")\n",
    "    x+=1\n",
    "    \n",
    "else:\n",
    "    print ('All Done!')"
   ]
  },
  {
   "cell_type": "markdown",
   "metadata": {},
   "source": [
    "# break, continue, pass\n",
    "\n",
    "We can use break, continue, and pass statements in our loops to add additional functionality for various cases. The three statements are defined by:\n",
    "\n",
    "   **break:** Breaks out of the current closest enclosing loop.\n",
    "   \n",
    "   **continue:** Goes to the top of the closest enclosing loop.\n",
    "   \n",
    "   **pass:** Does nothing at all.\n",
    "    \n",
    "    \n",
    "Thinking about **break** and **continue** statements, the general format of the while loop looks like this:\n",
    "\n",
    "    while test: \n",
    "        code statement\n",
    "        if test: \n",
    "            break\n",
    "        if test: \n",
    "            continue \n",
    "     else:\n",
    "        do something else\n",
    "\n",
    "**break** and **continue** statements can appear anywhere inside the loop’s body,but we will usually put them further nested in conjunction with an **if** statement to perform an action based on some condition.\n",
    "\n",
    "### Some examples:\n",
    "\n",
    "#### continue"
   ]
  },
  {
   "cell_type": "code",
   "execution_count": 2,
   "metadata": {},
   "outputs": [
    {
     "name": "stdout",
     "output_type": "stream",
     "text": [
      "The number is:  0\n",
      "The number still less than 5, adding 1 unit\n",
      "continuing... \n",
      "\n",
      "The number is:  1\n",
      "The number still less than 5, adding 1 unit\n",
      "continuing... \n",
      "\n",
      "The number is:  2\n",
      "The number still less than 5, adding 1 unit\n",
      "x==3\n",
      "The number is:  3\n",
      "The number still less than 5, adding 1 unit\n",
      "continuing... \n",
      "\n",
      "The number is:  4\n",
      "The number still less than 5, adding 1 unit\n",
      "continuing... \n",
      "\n"
     ]
    }
   ],
   "source": [
    "x = 0\n",
    "\n",
    "while x < 5:\n",
    "    print ('The number is: ', x)\n",
    "    print ('The number still less than 5, adding 1 unit')\n",
    "    x+=1\n",
    "    if x ==3:\n",
    "        print ('x==3')\n",
    "    else:\n",
    "        print ('continuing...', \"\\n\")\n",
    "        continue"
   ]
  },
  {
   "cell_type": "markdown",
   "metadata": {},
   "source": [
    "Note how we have a printed statement when x==3, and a continue being printed out as we continue through the outer while loop. \n",
    "\n",
    "#### break"
   ]
  },
  {
   "cell_type": "code",
   "execution_count": 5,
   "metadata": {},
   "outputs": [
    {
     "name": "stdout",
     "output_type": "stream",
     "text": [
      "The number is:  0\n",
      "The number still less than 5, adding 1 unit\n",
      "continuing... \n",
      "\n",
      "The number is:  1\n",
      "The number still less than 5, adding 1 unit\n",
      "continuing... \n",
      "\n",
      "The number is:  2\n",
      "The number still less than 5, adding 1 unit\n",
      "Breaking because x==3\n"
     ]
    }
   ],
   "source": [
    "x = 0\n",
    "\n",
    "while x < 5:\n",
    "    print ('The number is: ', x)\n",
    "    print ('The number still less than 5, adding 1 unit')\n",
    "    x+=1\n",
    "    if x ==3:\n",
    "        print ('Breaking because x==3')\n",
    "        break\n",
    "    else:\n",
    "        print('continuing...', \"\\n\")\n",
    "        continue"
   ]
  },
  {
   "cell_type": "markdown",
   "metadata": {},
   "source": [
    "**Note how the code stopped when the condition x==3 was reached!**\n",
    "\n",
    "\n",
    "# Very important!\n",
    "### Do not run the code below, it create an infinite loop that will never stop unless you stop running your kernel."
   ]
  },
  {
   "cell_type": "code",
   "execution_count": null,
   "metadata": {},
   "outputs": [],
   "source": [
    "# DO NOT RUN THIS CODE!!!! \n",
    "while True:\n",
    "    print 'Uh Oh infinite Loop!'"
   ]
  },
  {
   "cell_type": "code",
   "execution_count": null,
   "metadata": {
    "collapsed": true
   },
   "outputs": [],
   "source": []
  }
 ],
 "metadata": {
  "kernelspec": {
   "display_name": "Python 3",
   "language": "python",
   "name": "python3"
  },
  "language_info": {
   "codemirror_mode": {
    "name": "ipython",
    "version": 3
   },
   "file_extension": ".py",
   "mimetype": "text/x-python",
   "name": "python",
   "nbconvert_exporter": "python",
   "pygments_lexer": "ipython3",
   "version": "3.5.4"
  }
 },
 "nbformat": 4,
 "nbformat_minor": 1
}
